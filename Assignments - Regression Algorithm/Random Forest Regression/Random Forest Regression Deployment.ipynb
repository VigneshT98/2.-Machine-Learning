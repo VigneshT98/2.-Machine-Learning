{
 "cells": [
  {
   "cell_type": "code",
   "execution_count": 5,
   "id": "b3d89786-03af-4f27-b1ca-ed16f2b142de",
   "metadata": {},
   "outputs": [],
   "source": [
    "import pickle\n",
    "loaded_model=pickle.load(open('finalized_RandomForest_model','rb'))"
   ]
  },
  {
   "cell_type": "code",
   "execution_count": 6,
   "id": "c7b3ef0e-35b1-4ff0-9139-f314c92f0262",
   "metadata": {},
   "outputs": [],
   "source": [
    "result=loaded_model.predict([[29,30,1,1,0]])"
   ]
  },
  {
   "cell_type": "code",
   "execution_count": 7,
   "id": "2f0e672b-9bf4-487d-9d50-4c1a2de762cd",
   "metadata": {},
   "outputs": [
    {
     "data": {
      "text/plain": [
       "array([16118.032327])"
      ]
     },
     "execution_count": 7,
     "metadata": {},
     "output_type": "execute_result"
    }
   ],
   "source": [
    "result"
   ]
  },
  {
   "cell_type": "code",
   "execution_count": null,
   "id": "00f95894-63fc-4891-914b-ccd3fdddeacc",
   "metadata": {},
   "outputs": [],
   "source": []
  }
 ],
 "metadata": {
  "kernelspec": {
   "display_name": "Python 3 (ipykernel)",
   "language": "python",
   "name": "python3"
  },
  "language_info": {
   "codemirror_mode": {
    "name": "ipython",
    "version": 3
   },
   "file_extension": ".py",
   "mimetype": "text/x-python",
   "name": "python",
   "nbconvert_exporter": "python",
   "pygments_lexer": "ipython3",
   "version": "3.12.0"
  }
 },
 "nbformat": 4,
 "nbformat_minor": 5
}
