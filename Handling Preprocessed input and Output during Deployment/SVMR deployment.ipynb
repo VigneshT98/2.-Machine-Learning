{
 "cells": [
  {
   "cell_type": "code",
   "execution_count": 33,
   "id": "55bc4550-8dc1-4de7-8f04-8291fe656c53",
   "metadata": {},
   "outputs": [],
   "source": [
    "import pickle"
   ]
  },
  {
   "cell_type": "code",
   "execution_count": 34,
   "id": "33e3af2f-c100-47af-90b8-1c868917c29d",
   "metadata": {},
   "outputs": [],
   "source": [
    "standard_input=pickle.load(open('input_preprocessed_value.pkl','rb'))\n",
    "standard_output=pickle.load(open('output_preprocessed_value.pkl','rb'))\n",
    "loaded_result=pickle.load(open('selected_model.sav','rb'))\n"
   ]
  },
  {
   "cell_type": "code",
   "execution_count": 35,
   "id": "37a0fd57-84ca-40f8-8521-3e92a263e30c",
   "metadata": {},
   "outputs": [
    {
     "name": "stderr",
     "output_type": "stream",
     "text": [
      "C:\\Users\\VIGNET\\OneDrive - Capgemini\\Documents\\Python\\Lib\\site-packages\\sklearn\\base.py:493: UserWarning: X does not have valid feature names, but StandardScaler was fitted with feature names\n",
      "  warnings.warn(\n"
     ]
    },
    {
     "data": {
      "text/plain": [
       "array([-0.80888067])"
      ]
     },
     "execution_count": 35,
     "metadata": {},
     "output_type": "execute_result"
    }
   ],
   "source": [
    "raw_input=standard_input.transform([[12000,13000,45000,0,1]])\n",
    "pred_output=loaded_result.predict(raw_input)\n",
    "pred_output"
   ]
  },
  {
   "cell_type": "code",
   "execution_count": 43,
   "id": "73c61641-1d13-4639-85b1-51b60961b591",
   "metadata": {},
   "outputs": [
    {
     "data": {
      "text/plain": [
       "array([[75433.12876906]])"
      ]
     },
     "execution_count": 43,
     "metadata": {},
     "output_type": "execute_result"
    }
   ],
   "source": [
    "user_expected_output=standard_output.inverse_transform([pred_output])\n",
    "user_expected_output"
   ]
  },
  {
   "cell_type": "code",
   "execution_count": null,
   "id": "67d1306d-d5f9-4c07-8e18-8ec8d3578f4c",
   "metadata": {},
   "outputs": [],
   "source": []
  }
 ],
 "metadata": {
  "kernelspec": {
   "display_name": "Python 3 (ipykernel)",
   "language": "python",
   "name": "python3"
  },
  "language_info": {
   "codemirror_mode": {
    "name": "ipython",
    "version": 3
   },
   "file_extension": ".py",
   "mimetype": "text/x-python",
   "name": "python",
   "nbconvert_exporter": "python",
   "pygments_lexer": "ipython3",
   "version": "3.12.0"
  }
 },
 "nbformat": 4,
 "nbformat_minor": 5
}
