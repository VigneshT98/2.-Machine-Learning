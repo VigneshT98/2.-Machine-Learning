{
 "cells": [
  {
   "cell_type": "code",
   "execution_count": 5,
   "id": "d0329254-a4f6-4271-b3f5-0136267ca04c",
   "metadata": {},
   "outputs": [],
   "source": [
    "import pickle"
   ]
  },
  {
   "cell_type": "code",
   "execution_count": 6,
   "id": "f074dbe2-72d0-4e3f-91e5-0e81db59a0bb",
   "metadata": {},
   "outputs": [],
   "source": [
    "#if we want to use the created model, we can use it by loading the saved file\n",
    "loaded_model=pickle.load(open('Finalized multi linear model.sav','rb'))"
   ]
  },
  {
   "cell_type": "code",
   "execution_count": 7,
   "id": "6231352d-6491-4222-b73f-08a06faf7b3d",
   "metadata": {},
   "outputs": [
    {
     "name": "stdin",
     "output_type": "stream",
     "text": [
      "Enter the R&D Spend: 45678\n",
      "Enter the Administration amount: 76549\n",
      "Enter the Marketing spend: 56478\n",
      "Enter 1 if state is New york or Enter 0: 0\n",
      "Enter 1 if state is Florida or Enter 0: 1\n"
     ]
    },
    {
     "name": "stderr",
     "output_type": "stream",
     "text": [
      "C:\\Users\\VIGNET\\OneDrive - Capgemini\\Documents\\Python\\Lib\\site-packages\\sklearn\\base.py:493: UserWarning: X does not have valid feature names, but LinearRegression was fitted with feature names\n",
      "  warnings.warn(\n"
     ]
    }
   ],
   "source": [
    "#After loading we can predict the output by passing the input\n",
    "result=loaded_model.predict([[float(input('Enter the R&D Spend:')),\n",
    "                            float(input('Enter the Administration amount:')),\n",
    "                             float(input('Enter the Marketing spend:')),\n",
    "                             float(input('Enter 1 if state is New york or Enter 0:')),\n",
    "                             float(input('Enter 1 if state is Florida or Enter 0:'))]])"
   ]
  },
  {
   "cell_type": "code",
   "execution_count": 4,
   "id": "886aed47-9d13-45ae-8710-9247bcd5b20f",
   "metadata": {},
   "outputs": [
    {
     "data": {
      "text/plain": [
       "array([[242795.12013613]])"
      ]
     },
     "execution_count": 4,
     "metadata": {},
     "output_type": "execute_result"
    }
   ],
   "source": [
    "result"
   ]
  },
  {
   "cell_type": "code",
   "execution_count": null,
   "id": "08742e93-86cc-43d6-9924-9c88b97d1c73",
   "metadata": {},
   "outputs": [],
   "source": []
  }
 ],
 "metadata": {
  "kernelspec": {
   "display_name": "Python 3 (ipykernel)",
   "language": "python",
   "name": "python3"
  },
  "language_info": {
   "codemirror_mode": {
    "name": "ipython",
    "version": 3
   },
   "file_extension": ".py",
   "mimetype": "text/x-python",
   "name": "python",
   "nbconvert_exporter": "python",
   "pygments_lexer": "ipython3",
   "version": "3.12.0"
  }
 },
 "nbformat": 4,
 "nbformat_minor": 5
}
